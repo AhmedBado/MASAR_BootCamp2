{
  "nbformat": 4,
  "nbformat_minor": 0,
  "metadata": {
    "colab": {
      "provenance": [],
      "toc_visible": true,
      "authorship_tag": "ABX9TyNy+tkxoMirPPRCbQgXiULa",
      "include_colab_link": true
    },
    "kernelspec": {
      "name": "python3",
      "display_name": "Python 3"
    },
    "language_info": {
      "name": "python"
    }
  },
  "cells": [
    {
      "cell_type": "markdown",
      "metadata": {
        "id": "view-in-github",
        "colab_type": "text"
      },
      "source": [
        "<a href=\"https://colab.research.google.com/github/AhmedBado/MASAR_BootCamp2/blob/main/HW_2_If_condition.ipynb\" target=\"_parent\"><img src=\"https://colab.research.google.com/assets/colab-badge.svg\" alt=\"Open In Colab\"/></a>"
      ]
    },
    {
      "cell_type": "markdown",
      "source": [
        "# HW#2 If condition"
      ],
      "metadata": {
        "id": "C_7euSxK4t6n"
      }
    },
    {
      "cell_type": "markdown",
      "source": [
        "**سؤال:**\n",
        "لديكم نظام مكافآت للموظفين يعتمد على عدد سنوات الخبرة وتقييم أدائهم. إذا كانت السنوات أقل من أو تساوي 10 سنوات، وكان التقييم ممتازًا، فإن المكافأة تكون 10%، وإذا كان التقييم ضعيفًا، فإن المكافأة تكون 5%. أما إذا كانت السنوات أكثر من 10 سنة، وكان التقييم ممتازًا، فإن المكافأة تكون 20%، وإذا كان التقييم ضعيفًا، فإن المكافأة تكون 15%."
      ],
      "metadata": {
        "id": "FQ-PGkwH4x00"
      }
    },
    {
      "cell_type": "code",
      "source": [
        "#تعريف عدد سنوات العمل\n",
        "years = int(input(\"enter number of working years:\"))\n",
        "\n",
        "# تعريف التقييم\n",
        "evaluation = input(\"enter evaluation:\")\n",
        "\n",
        "#متغير المكافأة\n",
        "bonus = float\n",
        "\n",
        "#نظام حساب المكافأة\n",
        "if years > 10:\n",
        "  if evaluation == \"Excellent\":\n",
        "    bonus = 0.2\n",
        "  elif evaluation == \"poor\":\n",
        "    bonus = 0.15\n",
        "elif years <= 10:\n",
        "  if evaluation == \"Excellent\":\n",
        "    bonus = 0.1\n",
        "  elif evaluation == \"poor\":\n",
        "    bonus = 0.05\n",
        "\n",
        "\n",
        "bonus = bonus*100\n",
        "print(f\"your bonus: {bonus}%\")\n"
      ],
      "metadata": {
        "colab": {
          "base_uri": "https://localhost:8080/"
        },
        "id": "eAz2byhp4_81",
        "outputId": "e362aad1-2100-483a-9ac6-a3b1be1fd4c1"
      },
      "execution_count": 2,
      "outputs": [
        {
          "output_type": "stream",
          "name": "stdout",
          "text": [
            "enter number of working years:10\n",
            "enter evaluation:poor\n",
            "your bonus: 5.0%\n"
          ]
        }
      ]
    }
  ]
}