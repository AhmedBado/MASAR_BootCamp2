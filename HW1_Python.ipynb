{
  "nbformat": 4,
  "nbformat_minor": 0,
  "metadata": {
    "colab": {
      "provenance": [],
      "authorship_tag": "ABX9TyPSJlXUq+ypn/S1Wb7thSjO",
      "include_colab_link": true
    },
    "kernelspec": {
      "name": "python3",
      "display_name": "Python 3"
    },
    "language_info": {
      "name": "python"
    }
  },
  "cells": [
    {
      "cell_type": "markdown",
      "metadata": {
        "id": "view-in-github",
        "colab_type": "text"
      },
      "source": [
        "<a href=\"https://colab.research.google.com/github/AhmedBado/MASAR_BootCamp2/blob/main/HW1_Python.ipynb\" target=\"_parent\"><img src=\"https://colab.research.google.com/assets/colab-badge.svg\" alt=\"Open In Colab\"/></a>"
      ]
    },
    {
      "cell_type": "markdown",
      "source": [
        "**HW1**\n",
        "\n",
        "\n",
        "*   تعريف متغير و جعل قيمته هو اسمك\n",
        "*   تعريف متغير آخر و يكون قيمته هو عمرك\n",
        "*   طباعة جملة تتحدث فيها عن نفسك\n",
        "*   لاتنس استخدام # لاضافة التعليقات"
      ],
      "metadata": {
        "id": "Pj0kdBFAcg4h"
      }
    },
    {
      "cell_type": "code",
      "source": [],
      "metadata": {
        "id": "dfbpChf8cnOi"
      },
      "execution_count": null,
      "outputs": []
    }
  ]
}